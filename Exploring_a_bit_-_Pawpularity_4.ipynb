{
 "cells": [
  {
   "cell_type": "code",
   "execution_count": null,
   "id": "09fd03dd",
   "metadata": {},
   "outputs": [],
   "source": [
    "import plotly.express as px\n",
    "import plotly.io as pio\n",
    "pio.renderers.default='notebook'\n",
    "import pandas as pd\n",
    "import random as rand\n",
    "#\n",
    "#getting the data\n",
    "data_location = '/fs/ess/PAS2038/PHYSICS5680_OSU/student_data/armitage'\n",
    "\n",
    "df = pd.DataFrame()\n",
    "    \n",
    "name = data_location + '/train.csv'\n",
    "df = pd.read_csv(name,header=0)\n",
    "\n",
    "df"
   ]
  },
  {
   "cell_type": "code",
   "execution_count": null,
   "id": "2070c487",
   "metadata": {},
   "outputs": [],
   "source": [
    "import matplotlib.pyplot as plt"
   ]
  },
  {
   "cell_type": "code",
   "execution_count": null,
   "id": "0d29cf41",
   "metadata": {},
   "outputs": [],
   "source": [
    "corr = df.corr()\n",
    "corr.style.background_gradient()\n"
   ]
  },
  {
   "cell_type": "markdown",
   "id": "90de53cc",
   "metadata": {},
   "source": [
    "# Oops! Nothing's correlated!"
   ]
  },
  {
   "cell_type": "markdown",
   "id": "b5357df0",
   "metadata": {},
   "source": [
    "# Now to also look at the images"
   ]
  },
  {
   "cell_type": "code",
   "execution_count": null,
   "id": "c517ac8b",
   "metadata": {},
   "outputs": [],
   "source": [
    "image_location = data_location + '/train/*.jpg'"
   ]
  },
  {
   "cell_type": "code",
   "execution_count": null,
   "id": "d7486caa",
   "metadata": {},
   "outputs": [],
   "source": [
    "from glob import glob\n",
    "images = glob(image_location)"
   ]
  },
  {
   "cell_type": "code",
   "execution_count": null,
   "id": "c8a76f92",
   "metadata": {},
   "outputs": [],
   "source": [
    "print(images)"
   ]
  },
  {
   "cell_type": "code",
   "execution_count": null,
   "id": "8cf79af7",
   "metadata": {},
   "outputs": [],
   "source": [
    "import matplotlib.pyplot as plt\n",
    "#Time to test if that worked\n",
    "images_trial_run = plt.imread(images[0])\n",
    "\n",
    "plt.imshow(images_trial_run)"
   ]
  },
  {
   "cell_type": "markdown",
   "id": "ef84f758",
   "metadata": {},
   "source": [
    "# It works!!!"
   ]
  },
  {
   "cell_type": "markdown",
   "id": "b3464b2b",
   "metadata": {},
   "source": [
    "# Now to show images by pawpularity, so we can get an idea of what we're working with."
   ]
  },
  {
   "cell_type": "code",
   "execution_count": null,
   "id": "ad7f4358",
   "metadata": {},
   "outputs": [],
   "source": [
    "def random_pictures(data_frame,number_images,pawpularity,num_rows,num_column):\n",
    "    '''\n",
    "    So here we want to display a random number of images, so we will send in our original data frame with ids and such so we \n",
    "    can pull out images of the desired pawpularity.\n",
    "    '''\n",
    "    #we gotta have this be random each time so we will need a seed.\n",
    "    seed = rand.randint(0,100)\n",
    "    \n",
    "    #Now to randomly get images\n",
    "    sample = data_frame[data_frame['Pawpularity'] == pawpularity].sample(number_images, random_state=seed)\n",
    "    \n",
    "    #Next to plot the images\n",
    "    plt.rcParams[\"figure.figsize\"] = (20,20)\n",
    "    for i in range(number_images):\n",
    "        image_selected = data_location + '/train/' + sample.iloc[i]['Id'] + '.jpg'\n",
    "        img_pawpularity = sample.iloc[i]['Pawpularity']\n",
    "        plot_image = plt.imread(image_selected)\n",
    "        plt.subplot(num_rows, num_column,i+1)\n",
    "        #Pawpularity score \n",
    "        plt.title(img_pawpularity) \n",
    "        #then plt.imshow() can display it for you\n",
    "        plt.imshow(plot_image)\n",
    "        plt.axis('off')\n",
    "        \n",
    "    plt.show()\n",
    "    plt.close()"
   ]
  },
  {
   "cell_type": "code",
   "execution_count": null,
   "id": "371c39dd",
   "metadata": {},
   "outputs": [],
   "source": [
    "random_pictures(df,25,10,5,5)"
   ]
  },
  {
   "cell_type": "code",
   "execution_count": null,
   "id": "e6637699",
   "metadata": {},
   "outputs": [],
   "source": [
    "random_pictures(df,25,20,5,5)"
   ]
  },
  {
   "cell_type": "code",
   "execution_count": null,
   "id": "a3121b76",
   "metadata": {},
   "outputs": [],
   "source": [
    "random_pictures(df,25,30,5,5)"
   ]
  },
  {
   "cell_type": "code",
   "execution_count": null,
   "id": "bc081046",
   "metadata": {},
   "outputs": [],
   "source": [
    "random_pictures(df,25,40,5,5)"
   ]
  },
  {
   "cell_type": "code",
   "execution_count": null,
   "id": "29cfe233",
   "metadata": {},
   "outputs": [],
   "source": [
    "random_pictures(df,25,50,5,5)"
   ]
  },
  {
   "cell_type": "code",
   "execution_count": null,
   "id": "d2aaad8f",
   "metadata": {},
   "outputs": [],
   "source": [
    "random_pictures(df,10,60,5,5)"
   ]
  },
  {
   "cell_type": "code",
   "execution_count": null,
   "id": "4c5ad08f",
   "metadata": {},
   "outputs": [],
   "source": [
    "random_pictures(df,10,70,5,5)"
   ]
  },
  {
   "cell_type": "code",
   "execution_count": null,
   "id": "e8eee418",
   "metadata": {},
   "outputs": [],
   "source": [
    "random_pictures(df,10,80,5,5)"
   ]
  },
  {
   "cell_type": "code",
   "execution_count": null,
   "id": "95ed2068",
   "metadata": {},
   "outputs": [],
   "source": [
    "random_pictures(df,5,90,5,5)"
   ]
  },
  {
   "cell_type": "code",
   "execution_count": null,
   "id": "97d557da",
   "metadata": {},
   "outputs": [],
   "source": [
    "random_pictures(df,25,100,5,5)"
   ]
  },
  {
   "cell_type": "markdown",
   "id": "da752794",
   "metadata": {},
   "source": [
    "# Ok we got the images but this is highway robbery, some of these low pawpularities are adorable. (Shoutout to the screenshot of the instagram screenshot that managed to get 100 somehow)"
   ]
  },
  {
   "cell_type": "code",
   "execution_count": null,
   "id": "f378eba4",
   "metadata": {},
   "outputs": [],
   "source": []
  }
 ],
 "metadata": {
  "kernelspec": {
   "display_name": "Python 3",
   "language": "python",
   "name": "python3"
  },
  "language_info": {
   "codemirror_mode": {
    "name": "ipython",
    "version": 3
   },
   "file_extension": ".py",
   "mimetype": "text/x-python",
   "name": "python",
   "nbconvert_exporter": "python",
   "pygments_lexer": "ipython3",
   "version": "3.6.8"
  }
 },
 "nbformat": 4,
 "nbformat_minor": 5
}
